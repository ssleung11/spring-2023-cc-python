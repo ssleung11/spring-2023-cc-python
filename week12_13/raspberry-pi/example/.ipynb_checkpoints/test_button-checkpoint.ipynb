{
 "cells": [
  {
   "cell_type": "markdown",
   "metadata": {},
   "source": [
    "Test if button works "
   ]
  },
  {
   "cell_type": "code",
   "execution_count": null,
   "metadata": {
    "vscode": {
     "languageId": "python"
    }
   },
   "outputs": [],
   "source": [
    "import gpiozero\n",
    "from time import sleep"
   ]
  },
  {
   "cell_type": "code",
   "execution_count": 2,
   "metadata": {
    "vscode": {
     "languageId": "python"
    }
   },
   "outputs": [
    {
     "name": "stdout",
     "output_type": "stream",
     "text": [
      "down\n",
      "up\n",
      "down\n",
      "up\n",
      "down\n",
      "up\n",
      "down\n",
      "up\n",
      "down\n",
      "up\n"
     ]
    }
   ],
   "source": [
    "\n",
    "#Setup pins\n",
    "button = gpiozero.Button(23) \n",
    "\n",
    "def up(button):\n",
    "    print (\"up\")\n",
    " \n",
    "def down(button):        \n",
    "    print(\"down\")      \n",
    "     \n",
    "button.when_pressed = down\n",
    "button.when_released = up\n",
    "\n",
    "while True:\n",
    "    sleep(0.1)"
   ]
  },
  {
   "cell_type": "code",
   "execution_count": null,
   "metadata": {
    "vscode": {
     "languageId": "python"
    }
   },
   "outputs": [],
   "source": []
  }
 ],
 "metadata": {
  "kernelspec": {
   "display_name": "Python 3",
   "language": "python",
   "name": "python3"
  },
  "language_info": {
   "codemirror_mode": {
    "name": "ipython",
    "version": 3
   },
   "file_extension": ".py",
   "mimetype": "text/x-python",
   "name": "python",
   "nbconvert_exporter": "python",
   "pygments_lexer": "ipython3",
   "version": "3.7.3"
  }
 },
 "nbformat": 4,
 "nbformat_minor": 2
}
