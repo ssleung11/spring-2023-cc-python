{
 "cells": [
  {
   "cell_type": "markdown",
   "metadata": {},
   "source": [
    "### Assignment: APIs"
   ]
  },
  {
   "cell_type": "markdown",
   "metadata": {},
   "source": [
    "Go to list of public API. Select one from the list or find your own and make an API call. Use example from class to guide you. \n",
    "<br>\n",
    "<br>\n",
    "[General list of APIs]('https://github.com/public-apis/public-apis') \n",
    "<br>\n",
    "\n",
    "Some fun ones:  \n",
    "\n",
    "* Pokemon API \n",
    "* Dog/Cat animal facts \n",
    "* Museum api \n",
    "* Dictionary \n",
    "\n",
    "\n",
    "<b>Challenge:</b> Find an API that may not on the list. Ideas to explore: \n",
    "\n",
    "* Twitter API \n",
    "* Spotify API \n",
    "* Instagram API \n",
    "\n",
    "\n",
    "Don't use OpenAI as we will be doing that in class later. \n",
    "\n",
    "Note: Certain APIs will be harder to use than others. Look up documentation and tutorials \n",
    "\n",
    "Document what you did, why you made the API call and what you learned along the way. \n",
    "\n",
    "<b>Bonus (Not graded)</b> - Gather data from an API And create a chart from the data using matplotlib. \n"
   ]
  }
 ],
 "metadata": {
  "kernelspec": {
   "display_name": "Python 3",
   "language": "python",
   "name": "python3"
  },
  "language_info": {
   "codemirror_mode": {
    "name": "ipython",
    "version": 3
   },
   "file_extension": ".py",
   "mimetype": "text/x-python",
   "name": "python",
   "nbconvert_exporter": "python",
   "pygments_lexer": "ipython3",
   "version": "3.7.3"
  }
 },
 "nbformat": 4,
 "nbformat_minor": 2
}
