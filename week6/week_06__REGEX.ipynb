{
 "cells": [
  {
   "cell_type": "markdown",
   "metadata": {},
   "source": [
    "### Regular Expressions\n",
    "\n",
    ">**Regular expressions** (called REs, or regexes, or regex patterns) are essentially **a tiny, highly specialized programming language embedded inside Python** and made available through the `re` module. [SOURCE](https://docs.python.org/3/howto/regex.html)"
   ]
  },
  {
   "cell_type": "markdown",
   "metadata": {},
   "source": [
    "####  Matching exercise"
   ]
  },
  {
   "cell_type": "code",
   "execution_count": 1,
   "metadata": {},
   "outputs": [],
   "source": [
    "# Import the re module-- we'll use this throughout the notebook\n",
    "import re"
   ]
  },
  {
   "cell_type": "code",
   "execution_count": 2,
   "metadata": {},
   "outputs": [],
   "source": [
    "text = \"Call my phone at 646-666-1234!\""
   ]
  },
  {
   "cell_type": "code",
   "execution_count": 3,
   "metadata": {},
   "outputs": [],
   "source": [
    "# check to see if phone is in text \n",
    "pattern = 'phone'"
   ]
  },
  {
   "cell_type": "code",
   "execution_count": 4,
   "metadata": {},
   "outputs": [
    {
     "data": {
      "text/plain": [
       "<re.Match object; span=(8, 13), match='phone'>"
      ]
     },
     "execution_count": 4,
     "metadata": {},
     "output_type": "execute_result"
    }
   ],
   "source": [
    "# yes, there is a match \n",
    "re.search(pattern,text)"
   ]
  },
  {
   "cell_type": "code",
   "execution_count": 5,
   "metadata": {},
   "outputs": [],
   "source": [
    "pattern = \"python\""
   ]
  },
  {
   "cell_type": "code",
   "execution_count": 6,
   "metadata": {},
   "outputs": [],
   "source": [
    "# not a match, return nothing \n",
    "re.search(pattern,text)"
   ]
  },
  {
   "cell_type": "code",
   "execution_count": 7,
   "metadata": {},
   "outputs": [],
   "source": [
    "# reset to phone \n",
    "pattern = 'phone'\n",
    "\n",
    "match = re.search(pattern,text)"
   ]
  },
  {
   "cell_type": "code",
   "execution_count": 8,
   "metadata": {},
   "outputs": [
    {
     "data": {
      "text/plain": [
       "<re.Match object; span=(8, 13), match='phone'>"
      ]
     },
     "execution_count": 8,
     "metadata": {},
     "output_type": "execute_result"
    }
   ],
   "source": [
    "match "
   ]
  },
  {
   "cell_type": "code",
   "execution_count": 9,
   "metadata": {},
   "outputs": [
    {
     "data": {
      "text/plain": [
       "(8, 13)"
      ]
     },
     "execution_count": 9,
     "metadata": {},
     "output_type": "execute_result"
    }
   ],
   "source": [
    "# this is where the match expands, start and end\n",
    "\n",
    "match.span()"
   ]
  },
  {
   "cell_type": "code",
   "execution_count": 10,
   "metadata": {},
   "outputs": [],
   "source": [
    "# what if phone appears more than once? \n",
    "text = \"Call my phone at 646-666-1234! That is my phone number\"\n",
    "match = re.search(\"phone\",text)"
   ]
  },
  {
   "cell_type": "code",
   "execution_count": 11,
   "metadata": {},
   "outputs": [
    {
     "data": {
      "text/plain": [
       "(8, 13)"
      ]
     },
     "execution_count": 11,
     "metadata": {},
     "output_type": "execute_result"
    }
   ],
   "source": [
    "# it will only match the first instance \n",
    "match.span()"
   ]
  },
  {
   "cell_type": "code",
   "execution_count": 12,
   "metadata": {},
   "outputs": [
    {
     "data": {
      "text/plain": [
       "'phone'"
      ]
     },
     "execution_count": 12,
     "metadata": {},
     "output_type": "execute_result"
    }
   ],
   "source": [
    "# to find the match returned, use group () method \n",
    "match.group()"
   ]
  },
  {
   "cell_type": "code",
   "execution_count": 13,
   "metadata": {},
   "outputs": [
    {
     "data": {
      "text/plain": [
       "['phone', 'phone']"
      ]
     },
     "execution_count": 13,
     "metadata": {},
     "output_type": "execute_result"
    }
   ],
   "source": [
    "# you need to use the findall() method to get all the matches \n",
    "text = \"Call my phone at 646-666-1234! That is my phone number\"\n",
    "matches = re.findall(\"phone\",text)\n",
    "matches "
   ]
  },
  {
   "cell_type": "markdown",
   "metadata": {},
   "source": [
    "#### Regex Patterns "
   ]
  },
  {
   "cell_type": "code",
   "execution_count": 14,
   "metadata": {},
   "outputs": [],
   "source": [
    "# recall \\d is for any digit \n",
    "text = \"Call my phone at 646-666-1234!\""
   ]
  },
  {
   "cell_type": "code",
   "execution_count": 15,
   "metadata": {},
   "outputs": [],
   "source": [
    "phone = re.search(r'\\d\\d\\d-\\d\\d\\d-\\d\\d\\d\\d',text)\n",
    "\n",
    "# can also be written as the following \n",
    "# the {} represents number of times it repeats \n",
    "\n",
    "phone = re.search(r'\\d{3}-\\d{3}-\\d{4}',text)"
   ]
  },
  {
   "cell_type": "code",
   "execution_count": 17,
   "metadata": {},
   "outputs": [
    {
     "data": {
      "text/plain": [
       "'646-666-1234'"
      ]
     },
     "execution_count": 17,
     "metadata": {},
     "output_type": "execute_result"
    }
   ],
   "source": [
    "# groups are separated by parenthesis so you can use group(n) to isolate \n",
    "# order starts at 1 \n",
    "phone.group()"
   ]
  },
  {
   "cell_type": "code",
   "execution_count": 18,
   "metadata": {},
   "outputs": [
    {
     "data": {
      "text/plain": [
       "<re.Match object; span=(8, 13), match='phone'>"
      ]
     },
     "execution_count": 18,
     "metadata": {},
     "output_type": "execute_result"
    }
   ],
   "source": [
    "# use | for or operator \n",
    "\n",
    "re.search(r\"cell|phone\",\"Call my phone at 646-666-1234!\")"
   ]
  },
  {
   "cell_type": "code",
   "execution_count": 19,
   "metadata": {},
   "outputs": [
    {
     "data": {
      "text/plain": [
       "<re.Match object; span=(8, 12), match='cell'>"
      ]
     },
     "execution_count": 19,
     "metadata": {},
     "output_type": "execute_result"
    }
   ],
   "source": [
    "re.search(r\"cell|phone\",\"Call my cell at 646-666-1234!\")"
   ]
  },
  {
   "cell_type": "code",
   "execution_count": 20,
   "metadata": {},
   "outputs": [],
   "source": [
    "# use . for wildcard - match any character "
   ]
  },
  {
   "cell_type": "code",
   "execution_count": 21,
   "metadata": {},
   "outputs": [
    {
     "data": {
      "text/plain": [
       "['Sam', ' am', 'ham']"
      ]
     },
     "execution_count": 21,
     "metadata": {},
     "output_type": "execute_result"
    }
   ],
   "source": [
    "# notice how _am still counts \n",
    "#anything with 1 thing before 'am' \n",
    "re.findall(r\".am\",\"Sam I am, green eggs and ham\")"
   ]
  },
  {
   "cell_type": "code",
   "execution_count": 22,
   "metadata": {},
   "outputs": [
    {
     "data": {
      "text/plain": [
       "['I am', ' ham']"
      ]
     },
     "execution_count": 22,
     "metadata": {},
     "output_type": "execute_result"
    }
   ],
   "source": [
    "# add more . for more wildcards \n",
    "# anything with 2 things before 'am' \n",
    "re.findall(r\"..am\",\"Sam I am, green eggs and ham\")"
   ]
  },
  {
   "cell_type": "code",
   "execution_count": 23,
   "metadata": {},
   "outputs": [
    {
     "data": {
      "text/plain": [
       "['Sam', 'ham']"
      ]
     },
     "execution_count": 23,
     "metadata": {},
     "output_type": "execute_result"
    }
   ],
   "source": [
    "# what if I want to grab one or more non whitespace that ends with at \n",
    "# use \\S for non whitespace \n",
    "# use + for 1 or more times\n",
    "re.findall(r'\\S+am',\"Sam I am, green eggs and ham\")"
   ]
  },
  {
   "cell_type": "code",
   "execution_count": 24,
   "metadata": {},
   "outputs": [
    {
     "data": {
      "text/plain": [
       "['4']"
      ]
     },
     "execution_count": 24,
     "metadata": {},
     "output_type": "execute_result"
    }
   ],
   "source": [
    "# use $ for end with\n",
    "# start with a number  \n",
    "re.findall(r'\\d$','My cell is 646-666-1234')"
   ]
  },
  {
   "cell_type": "code",
   "execution_count": 25,
   "metadata": {},
   "outputs": [
    {
     "data": {
      "text/plain": [
       "['6']"
      ]
     },
     "execution_count": 25,
     "metadata": {},
     "output_type": "execute_result"
    }
   ],
   "source": [
    "# use ^ for start with\n",
    "# ends with a number  \n",
    "re.findall(r'^\\d','646-666-1234')"
   ]
  },
  {
   "cell_type": "code",
   "execution_count": 26,
   "metadata": {},
   "outputs": [],
   "source": [
    "# use brackets for grouping \n",
    "# use \\w for alphanumeric \n",
    "# use + for occurs more than one time "
   ]
  },
  {
   "cell_type": "code",
   "execution_count": 27,
   "metadata": {},
   "outputs": [
    {
     "data": {
      "text/plain": [
       "['646-666-1234']"
      ]
     },
     "execution_count": 27,
     "metadata": {},
     "output_type": "execute_result"
    }
   ],
   "source": [
    "re.findall(r'[\\w]+-[\\w]+-[\\w]+','My cell is 646-666-1234')"
   ]
  },
  {
   "cell_type": "code",
   "execution_count": 28,
   "metadata": {},
   "outputs": [],
   "source": [
    "# to exclude use ^ and []  \n",
    "# anything inside the [] will be excluded "
   ]
  },
  {
   "cell_type": "code",
   "execution_count": 29,
   "metadata": {},
   "outputs": [
    {
     "data": {
      "text/plain": [
       "['M', 'y', ' ', 'c', 'e', 'l', 'l', ' ', 'i', 's', ' ', '-', '-']"
      ]
     },
     "execution_count": 29,
     "metadata": {},
     "output_type": "execute_result"
    }
   ],
   "source": [
    "# exclude numbers \n",
    "\n",
    "text = 'My cell is 646-666-1234'\n",
    "re.findall(r'[^\\d]', text)"
   ]
  },
  {
   "cell_type": "code",
   "execution_count": 30,
   "metadata": {},
   "outputs": [
    {
     "data": {
      "text/plain": [
       "['My cell is ', '-', '-']"
      ]
     },
     "execution_count": 30,
     "metadata": {},
     "output_type": "execute_result"
    }
   ],
   "source": [
    "# to put words back together use + sign \n",
    "re.findall(r'[^\\d]+',text)"
   ]
  },
  {
   "cell_type": "code",
   "execution_count": 31,
   "metadata": {},
   "outputs": [],
   "source": [
    "#use case, removing puctuation \n",
    "\n",
    "sentence = 'What a load of $#*!. That is weird, right!?'"
   ]
  },
  {
   "cell_type": "code",
   "execution_count": 32,
   "metadata": {},
   "outputs": [
    {
     "data": {
      "text/plain": [
       "['What a load of ', ' That is ']"
      ]
     },
     "execution_count": 32,
     "metadata": {},
     "output_type": "execute_result"
    }
   ],
   "source": [
    "# found list of pucntionation online\" !\"#$%&\\'()*+,-./:;<=>?@[\\\\]^_`{|}~]+ ',sentence)\n",
    "re.findall('[^!\"#$%&\\'()*+,-./:;<=>?@[\\\\]^_`{|}~]+ ',sentence)"
   ]
  },
  {
   "cell_type": "code",
   "execution_count": 33,
   "metadata": {},
   "outputs": [],
   "source": [
    "# join sentence \n",
    "clean_sentence =  ' '.join(re.findall('[^!\"#$%&\\'()*+,-./:;<=>?@[\\\\]^_`{|}~]+ ',sentence))"
   ]
  },
  {
   "cell_type": "code",
   "execution_count": 34,
   "metadata": {},
   "outputs": [
    {
     "data": {
      "text/plain": [
       "'What a load of   That is '"
      ]
     },
     "execution_count": 34,
     "metadata": {},
     "output_type": "execute_result"
    }
   ],
   "source": [
    "clean_sentence"
   ]
  },
  {
   "cell_type": "code",
   "execution_count": 35,
   "metadata": {},
   "outputs": [],
   "source": [
    "# use () and | for multiple options \n",
    "email = 'avengers@marvel.com'\n",
    "email_one = \"loki@school.edu\"\n",
    "email_two = \"thor@institute.org\""
   ]
  },
  {
   "cell_type": "code",
   "execution_count": 36,
   "metadata": {},
   "outputs": [
    {
     "data": {
      "text/plain": [
       "<re.Match object; span=(15, 19), match='.com'>"
      ]
     },
     "execution_count": 36,
     "metadata": {},
     "output_type": "execute_result"
    }
   ],
   "source": [
    "re.search(r'\\.(com|edu|org$)',email)"
   ]
  },
  {
   "cell_type": "code",
   "execution_count": 37,
   "metadata": {},
   "outputs": [
    {
     "data": {
      "text/plain": [
       "<re.Match object; span=(11, 15), match='.edu'>"
      ]
     },
     "execution_count": 37,
     "metadata": {},
     "output_type": "execute_result"
    }
   ],
   "source": [
    "re.search(r'\\.(com|edu|org$)',email_one)"
   ]
  },
  {
   "cell_type": "code",
   "execution_count": 38,
   "metadata": {},
   "outputs": [
    {
     "data": {
      "text/plain": [
       "<re.Match object; span=(14, 18), match='.org'>"
      ]
     },
     "execution_count": 38,
     "metadata": {},
     "output_type": "execute_result"
    }
   ],
   "source": [
    "re.search(r'\\.(com|edu|org$)',email_two)"
   ]
  },
  {
   "cell_type": "markdown",
   "metadata": {},
   "source": [
    "#### An example\n",
    "\n",
    "Let's say we want to create a function that validates newschool email addresses.\n",
    "\n",
    "The function will return True if the address has the following features:<br>\n",
    "`five letters` + `three digits` + `@newschool.edu`\n",
    "\n",
    "Otherwise, it will return False."
   ]
  },
  {
   "cell_type": "code",
   "execution_count": 39,
   "metadata": {},
   "outputs": [
    {
     "name": "stdout",
     "output_type": "stream",
     "text": [
      "match\n"
     ]
    }
   ],
   "source": [
    "# Without regular expressions\n",
    "# list of letters and digits in string format \n",
    "letters = ['a', 'b', 'c', 'd', 'e', 'f', 'g', 'h'\n",
    "          'i', 'j', 'k', 'l', 'm', 'n', 'o', 'p'\n",
    "          'q', 'r', 's', 't', 'u', 'v', 'w', 'x',\n",
    "          'y', 'z']\n",
    "\n",
    "digits = ['0', '1', '2', '3', '4', '5', '6', '7', '8', '9']\n",
    "\n",
    "def validateAddress(address):\n",
    "    if (address[0] in letters and\n",
    "        address[1] in letters and\n",
    "        address[2] in letters and\n",
    "        address[3] in letters and\n",
    "        address[4] in letters and\n",
    "        address[5] in digits and \n",
    "        address[6] in digits and \n",
    "        address[7] in digits and \n",
    "        address[8:] == '@newschool.edu'\n",
    "       ):\n",
    "        print('match')\n",
    "    else:\n",
    "        print('no match')\n",
    "\n",
    "validateAddress('lastf123@newschool.edu')"
   ]
  },
  {
   "cell_type": "code",
   "execution_count": 40,
   "metadata": {},
   "outputs": [
    {
     "name": "stdout",
     "output_type": "stream",
     "text": [
      "match\n"
     ]
    }
   ],
   "source": [
    "# With regular expressions\n",
    "# match that starts with A-z (5 times), then 0-9 (3 times, followed by newschool.edu, end)\n",
    "def validateAddress(address):\n",
    "    if (re.search(r\"^[A-z]{5}[0-9]{3}@newschool\\.edu$\", address)):\n",
    "        print('match')\n",
    "    else:\n",
    "        print('no match')\n",
    "\n",
    "validateAddress('lastf123@newschool.edu')"
   ]
  },
  {
   "cell_type": "code",
   "execution_count": 41,
   "metadata": {},
   "outputs": [
    {
     "name": "stdout",
     "output_type": "stream",
     "text": [
      "match\n"
     ]
    }
   ],
   "source": [
    "# Regular expressions become very important when the pattern\n",
    "# increases in flexibility. For example, creating a generic\n",
    "# email validator.\n",
    "def validateAddress(address):\n",
    "    if (re.search(r\"^[A-z0-9\\.\\-]+@[A-z]+\\.[A-z]+$\", address)):\n",
    "        print('match')\n",
    "    else:\n",
    "        print('no match')\n",
    "\n",
    "validateAddress('lastf123@gmail.com')"
   ]
  },
  {
   "cell_type": "markdown",
   "metadata": {},
   "source": [
    "<br>\n",
    "\n",
    "### General notes on regular expressions\n",
    "\n",
    "Regular expressions use `metacharacters`:\n",
    "\n",
    "`. ^ $ * + ? { } [ ] \\ | ( )`\n",
    "\n",
    "These metacharacters hold special meaning, giving regular expressions powerful flexibility compared to strings."
   ]
  },
  {
   "cell_type": "code",
   "execution_count": 41,
   "metadata": {},
   "outputs": [],
   "source": [
    "# Square brackets -> Sets of characters\n",
    "\n",
    "# Letters\n",
    "pattern = r\"[a-z]\" # All lowercase letters\n",
    "pattern = r\"[A-Z]\" # All uppercase letters\n",
    "pattern = r\"[A-z]\" # All letters (r\"[A-Za-z]\" also works)\n",
    "\n",
    "# Digits\n",
    "pattern = r\"[0-9]\" # All digits\n",
    "pattern = r\"[0-5]\" # All digits from 0 to 5\n",
    "\n",
    "# Custom set of characters\n",
    "pattern = r\"[A-z0-9]\" # All letters and digits\n",
    "pattern = r\"[AEIOUaeiou]\" # All vowels\n",
    "\n",
    "# NOT in set\n",
    "pattern = r\"[^aeiou]\" # Any symbol that is NOT a vowel\n",
    "pattern = r\"[^0-9]\" # Any symbol that is NOT a digit"
   ]
  },
  {
   "cell_type": "code",
   "execution_count": 42,
   "metadata": {},
   "outputs": [],
   "source": [
    "# Caret and dollar sign -> Beginning and end\n",
    "\n",
    "# At the beginning\n",
    "pattern = r\"^[A-z]\" # A letter at the beginning\n",
    "pattern = r\"^[0-9]\" # A number at the beginning\n",
    "\n",
    "# At the end\n",
    "pattern = r\"[A-z]$\" # A letter at the end\n",
    "pattern = r\"[0-9]$\" # A number at the end\n",
    "\n",
    "# Defining both beginning and end\n",
    "pattern = r\"^[A-z]$\" # Exactly one letter\n",
    "pattern = r\"^[0-9]$\" # Exactly one number"
   ]
  },
  {
   "cell_type": "code",
   "execution_count": 43,
   "metadata": {},
   "outputs": [],
   "source": [
    "# Curly brackets, asterisk, and question mark -> Repetition\n",
    "\n",
    "# Curly brackets\n",
    "pattern = r\"[A-z]{3}\" # Exactly three letters\n",
    "pattern = r\"[A-z]{3,5}\" # Between three and five letters\n",
    "\n",
    "# Asterisk\n",
    "pattern = r\"[A-z]*\" # Zero or more letters\n",
    "\n",
    "# Question mark\n",
    "pattern = r\"[A-z]?\" # One or more letters"
   ]
  },
  {
   "cell_type": "code",
   "execution_count": 44,
   "metadata": {},
   "outputs": [],
   "source": [
    "# Dot - Any character\n",
    "pattern = r\".\" # Any character\n",
    "pattern = r\".{3}\" # Three of any character\n",
    "pattern = r\"[A-z].?\" # Any letter followed by one or more of any character"
   ]
  },
  {
   "cell_type": "code",
   "execution_count": 45,
   "metadata": {},
   "outputs": [],
   "source": [
    "# Slash - Escape character\n",
    "pattern = r\"\\.\" # A literal period symbol\n",
    "pattern = r\"[A-z]?\\?\" # One or more letters followed by a literal question mark\n",
    "pattern = r\"\\[\\]\" # A literal set of square brackets"
   ]
  },
  {
   "cell_type": "code",
   "execution_count": 46,
   "metadata": {},
   "outputs": [],
   "source": [
    "# Parentheses - Grouping\n",
    "pattern = r\"anna( banana)*\" # 'anna' followed by zero or more 'banana's"
   ]
  },
  {
   "cell_type": "code",
   "execution_count": 47,
   "metadata": {},
   "outputs": [],
   "source": [
    "# Bar - Logical or\n",
    "pattern = r\"(anna|banana)\" # Either 'anna' or 'banana'\n",
    "pattern = r\"\\.(com|edu|org$)\" # Ends in a literal dot followed by 'com', 'edu', or 'org'\n",
    "pattern = r\"([aeiou]|[02468])\" # Either a vowel or an even number"
   ]
  }
 ],
 "metadata": {
  "kernelspec": {
   "display_name": "Python 3",
   "language": "python",
   "name": "python3"
  },
  "language_info": {
   "codemirror_mode": {
    "name": "ipython",
    "version": 3
   },
   "file_extension": ".py",
   "mimetype": "text/x-python",
   "name": "python",
   "nbconvert_exporter": "python",
   "pygments_lexer": "ipython3",
   "version": "3.7.3"
  }
 },
 "nbformat": 4,
 "nbformat_minor": 4
}
