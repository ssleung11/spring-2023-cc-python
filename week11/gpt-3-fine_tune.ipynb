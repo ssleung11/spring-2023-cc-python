{
 "cells": [
  {
   "cell_type": "markdown",
   "metadata": {},
   "source": [
    "# Fine Tune GPT-3 #"
   ]
  },
  {
   "cell_type": "markdown",
   "metadata": {},
   "source": [
    "Additional training to make the model better at specific tasks."
   ]
  },
  {
   "cell_type": "markdown",
   "metadata": {},
   "source": [
    "Run the following on your terminal to prepare data. Type \"y\" to advance through all the options \n",
    "\n",
    "openai tools fine_tunes.prepare_data -f love_movie.csv\n",
    "\n",
    "Note: Make sure you're running this in the same directory as the love_movie.csv file \n",
    "\n",
    "Data was prepared from this article: https://www.empireonline.com/movies/features/best-romantic-movies/\n"
   ]
  },
  {
   "cell_type": "markdown",
   "metadata": {},
   "source": [
    "You want to convert data so it looks something like this \n",
    "\n",
    "```\n",
    "{\"prompt\": \"<prompt text>\", \"completion\": \"<ideal generated text>\"}\n",
    "{\"prompt\": \"<prompt text>\", \"completion\": \"<ideal generated text>\"}\n",
    "{\"prompt\": \"<prompt text>\", \"completion\": \"<ideal generated text>\"}\n",
    "```"
   ]
  },
  {
   "cell_type": "code",
   "execution_count": 19,
   "metadata": {},
   "outputs": [],
   "source": [
    "# run this in terminal \n",
    "# paste your API KEY \n",
    "export OPENAI_API_KEY=\"<OPENAI_API_KEY>\""
   ]
  },
  {
   "cell_type": "code",
   "execution_count": null,
   "metadata": {},
   "outputs": [],
   "source": [
    "# run this in terminal (in same directory as the csv file)\n",
    "# respond Y to all 3 qestions \n",
    "# it may take a few mins to run \n",
    "openai tools fine_tunes.prepare_data -f love_movie.csv"
   ]
  },
  {
   "cell_type": "code",
   "execution_count": 20,
   "metadata": {},
   "outputs": [],
   "source": [
    "#run the following, you may get interrupted. \n",
    "#Follow instructions to keep running until the model is completed\n",
    "#If stream interrupted (client disconnected).\n",
    "#To resume the stream, run: openai api fine_tunes.follow -i fine-tune-id\n",
    "#It will take a few mins \n",
    "openai api fine_tunes.create -t love_movie_prepared.jsonl -m curie"
   ]
  },
  {
   "cell_type": "code",
   "execution_count": 13,
   "metadata": {},
   "outputs": [],
   "source": [
    "#look at model results \n",
    "response = openai.Completion.create(\n",
    "    model=\"INSERT MODEL HERE\",\n",
    "    prompt=\"INSERT PROMPT\",\n",
    "    temperature=0.4, #randomness \n",
    "    max_tokens=100, #charaters in response \n",
    "    top_p=1, #controls diversity\n",
    "    frequency_penalty=0, #decrease repetition \n",
    "    presence_penalty=0 #increase likelihood to talk about new topic \n",
    ")"
   ]
  },
  {
   "cell_type": "code",
   "execution_count": 14,
   "metadata": {},
   "outputs": [
    {
     "name": "stdout",
     "output_type": "stream",
     "text": [
      "” director David Fincher is reuniting with “Gone Girl” star Ben Affleck for a new project, “Gone Girl” director David Fincher is reuniting with “Gone Girl” star Ben Affleck for a new project, “Gone Girl” prequel “Gone Girl: Based on the Novel by Gillian Flynn.”\n",
      "\n",
      "The film is described as a “modern-day love story\n"
     ]
    }
   ],
   "source": [
    "result = response.choices[0].text\n",
    "print(result)"
   ]
  },
  {
   "cell_type": "code",
   "execution_count": 17,
   "metadata": {},
   "outputs": [],
   "source": [
    "#compare same prompt to general model \n",
    "response = openai.Completion.create(\n",
    "  model=\"text-davinci-002\",\n",
    "  prompt=\"INSERT PROMPT\",\n",
    "  temperature=0.4,\n",
    "  max_tokens=100,\n",
    "  top_p=1.0,\n",
    "  frequency_penalty=0.0,\n",
    "  presence_penalty=0.0\n",
    ")"
   ]
  },
  {
   "cell_type": "code",
   "execution_count": 18,
   "metadata": {},
   "outputs": [
    {
     "name": "stdout",
     "output_type": "stream",
     "text": [
      "\" is a 2014 American psychological thriller film directed by David Fincher and written by Gillian Flynn, based on her 2012 novel of the same title. The film stars Ben Affleck, Rosamund Pike, Neil Patrick Harris, Tyler Perry, Carrie Coon, Kim Dickens, Patrick Fugit, Scoot McNairy, and Missi Pyle. The film had its world premiere on opening night of the 52nd New York Film Festival on September 26, 2014 and was widely released by 20\n"
     ]
    }
   ],
   "source": [
    "result = response.choices[0].text\n",
    "print(result)"
   ]
  },
  {
   "cell_type": "code",
   "execution_count": null,
   "metadata": {},
   "outputs": [],
   "source": [
    "#to delete model run the following \n",
    "openai.Model.delete(\"FINE_TUNED_MODEL\")"
   ]
  }
 ],
 "metadata": {
  "kernelspec": {
   "display_name": "Python 3",
   "language": "python",
   "name": "python3"
  },
  "language_info": {
   "codemirror_mode": {
    "name": "ipython",
    "version": 3
   },
   "file_extension": ".py",
   "mimetype": "text/x-python",
   "name": "python",
   "nbconvert_exporter": "python",
   "pygments_lexer": "ipython3",
   "version": "3.7.3"
  }
 },
 "nbformat": 4,
 "nbformat_minor": 2
}
