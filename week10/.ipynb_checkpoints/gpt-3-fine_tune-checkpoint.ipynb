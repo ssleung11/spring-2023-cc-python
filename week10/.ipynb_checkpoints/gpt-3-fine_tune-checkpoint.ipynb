{
 "cells": [
  {
   "cell_type": "markdown",
   "metadata": {},
   "source": [
    "# Fine Tune GPT-3 #"
   ]
  },
  {
   "cell_type": "markdown",
   "metadata": {},
   "source": [
    "Additional training to make the model better at specific tasks."
   ]
  },
  {
   "cell_type": "markdown",
   "metadata": {},
   "source": [
    "Run the following on your terminal to prepare data. Type \"y\" to advance through all the options \n",
    "\n",
    "openai tools fine_tunes.prepare_data -f love_movie.csv\n",
    "\n",
    "Note: Make sure you're running this in the same directly as the love_movie.csv file \n",
    "\n",
    "Data was prepared from this article: https://www.empireonline.com/movies/features/best-romantic-movies/\n"
   ]
  },
  {
   "cell_type": "markdown",
   "metadata": {},
   "source": [
    "You want to convert data so it looks something like this \n",
    "\n",
    "```\n",
    "{\"prompt\": \"<prompt text>\", \"completion\": \"<ideal generated text>\"}\n",
    "{\"prompt\": \"<prompt text>\", \"completion\": \"<ideal generated text>\"}\n",
    "{\"prompt\": \"<prompt text>\", \"completion\": \"<ideal generated text>\"}\n",
    "```"
   ]
  },
  {
   "cell_type": "code",
   "execution_count": null,
   "metadata": {},
   "outputs": [],
   "source": [
    "#run the following, you may get interrupted. Follow instructions to keep running until the model is completed\n",
    "!openai api fine_tunes.create -t love_movie_prepared.jsonl -m curie"
   ]
  },
  {
   "cell_type": "code",
   "execution_count": null,
   "metadata": {},
   "outputs": [],
   "source": [
    "#look at model results \n",
    "response = openai.Completion.create(\n",
    "    model=\"INSERT MODEL\",\n",
    "    prompt=\"INSERT PROMPT\",\n",
    "    temperature=0.4, #randomness \n",
    "    max_tokens=100, #charaters in response \n",
    "    top_p=1, #controls diversity\n",
    "    frequency_penalty=0, #decrease repetition \n",
    "    presence_penalty=0 #increase likelihood to talk about new topic \n",
    ")"
   ]
  },
  {
   "cell_type": "code",
   "execution_count": null,
   "metadata": {},
   "outputs": [],
   "source": [
    "result = response.choices[0].text\n",
    "print(result)"
   ]
  },
  {
   "cell_type": "code",
   "execution_count": null,
   "metadata": {},
   "outputs": [],
   "source": [
    "#compare same prompt to general model \n",
    "response = openai.Completion.create(\n",
    "  model=\"text-davinci-002\",\n",
    "  prompt=\"INSERT PROMPT\",\n",
    "  temperature=0.3,\n",
    "  max_tokens=120,\n",
    "  top_p=1.0,\n",
    "  frequency_penalty=0.0,\n",
    "  presence_penalty=0.0\n",
    ")"
   ]
  },
  {
   "cell_type": "code",
   "execution_count": null,
   "metadata": {},
   "outputs": [],
   "source": [
    "result = response.choices[0].text\n",
    "print(result)"
   ]
  },
  {
   "cell_type": "code",
   "execution_count": null,
   "metadata": {},
   "outputs": [],
   "source": [
    "#to delete model run the following \n",
    "openai.Model.delete(\"FINE_TUNED_MODEL\")"
   ]
  }
 ],
 "metadata": {
  "kernelspec": {
   "display_name": "Python 3",
   "language": "python",
   "name": "python3"
  },
  "language_info": {
   "codemirror_mode": {
    "name": "ipython",
    "version": 3
   },
   "file_extension": ".py",
   "mimetype": "text/x-python",
   "name": "python",
   "nbconvert_exporter": "python",
   "pygments_lexer": "ipython3",
   "version": "3.7.3"
  }
 },
 "nbformat": 4,
 "nbformat_minor": 2
}
